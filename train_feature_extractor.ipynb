{
 "cells": [
  {
   "cell_type": "code",
   "execution_count": 1,
   "source": [
    "import time\r\n",
    "import math\r\n",
    "import tables\r\n",
    "\r\n",
    "import numpy as np\r\n",
    "import matplotlib.pyplot as plt\r\n",
    "\r\n",
    "from sklearn.metrics import confusion_matrix\r\n",
    "\r\n",
    "import torch\r\n",
    "import torch.nn as nn\r\n",
    "import torch.nn.functional as F\r\n",
    "from torch.utils.data import DataLoader\r\n",
    "from torchvision import transforms\r\n",
    "from resnet_custom import resnet18_baseline # imports from custom_resnet file adapted from CLAM source code.\r\n",
    "\r\n",
    "from torch.utils.tensorboard import SummaryWriter\r\n",
    "import torch.utils.tensorboard as tensorboard\r\n",
    "import torchvision.models as models #built-in NN, using ResNet18 in this case."
   ],
   "outputs": [],
   "metadata": {
    "id": "OrQ6wISrvLRv"
   }
  },
  {
   "cell_type": "markdown",
   "source": [
    "Input training parameters"
   ],
   "metadata": {
    "id": "nyjxkrf7DUYr"
   }
  },
  {
   "cell_type": "code",
   "execution_count": 2,
   "source": [
    "dataname = 'synthetic32'\r\n",
    "gpuid=0\r\n",
    "\r\n",
    "# --- resnet params\r\n",
    "n_classes = 2\r\n",
    "\r\n",
    "# not sure if these will be necessary in the future. might be able to exclude these from state.\r\n",
    "'''growth_rate=8 \r\n",
    "block_config=(4, 4, 4, 4)\r\n",
    "num_init_features=2\r\n",
    "bn_size=4\r\n",
    "drop_rate=0'''\r\n",
    "\r\n",
    "# --- training params\r\n",
    "batch_size=64\r\n",
    "patch_size=32 #based on resnet architecture. Changed from 224\r\n",
    "num_epochs = 1\r\n",
    "phases = [\"train\",\"val\", \"test\"] #how many phases did we create databases for?\r\n",
    "validation_phases= [\"val\"] #when should we do valiation? note that validation is *very* time consuming, so as opposed to doing for both training and validation, we do it only for vlaidation at the end of the epoch\r\n",
    "                           #additionally, using simply [], will skip validation entirely, drastically speeding things up"
   ],
   "outputs": [],
   "metadata": {
    "id": "w8_tc-O82be9"
   }
  },
  {
   "cell_type": "code",
   "execution_count": 3,
   "source": [
    "#helper function for pretty printing of current time and remaining time\r\n",
    "def asMinutes(s):\r\n",
    "   m = math.floor(s / 60)\r\n",
    "   s -= m * 60\r\n",
    "   return '%dm %ds' % (m, s)\r\n",
    "def timeSince(since, percent):\r\n",
    "   now = time.time()\r\n",
    "   s = now - since\r\n",
    "   es = s / (percent+.00001)\r\n",
    "   rs = es - s\r\n",
    "   return '%s (- %s)' % (asMinutes(s), asMinutes(rs))"
   ],
   "outputs": [],
   "metadata": {
    "id": "lYN8zoSZCxAk"
   }
  },
  {
   "cell_type": "code",
   "execution_count": 4,
   "source": [
    "#specify if we should use a GPU (cuda) or only the CPU\r\n",
    "if(torch.cuda.is_available()):\r\n",
    "   print(torch.cuda.get_device_properties(gpuid))\r\n",
    "   torch.cuda.set_device(gpuid)\r\n",
    "   device = torch.device(f'cuda:{gpuid}')\r\n",
    "else:\r\n",
    "   device = torch.device(f'cpu')"
   ],
   "outputs": [],
   "metadata": {
    "id": "DgIfzmZGDD4C"
   }
  },
  {
   "cell_type": "code",
   "execution_count": 5,
   "source": [
    "resnet18 = models.resnet18()\r\n",
    "# resnet18 = resnet18_baseline()\r\n",
    "resnet18.fc = nn.Linear(resnet18.fc.in_features, 1)\r\n",
    "print(f\"total params: \\t{sum([np.prod(p.size()) for p in resnet18.parameters()])}\") # script for counting total params\r\n",
    "                                                                                    # might need to look into docs for resnet18 to count parameters.\r\n"
   ],
   "outputs": [
    {
     "output_type": "stream",
     "name": "stdout",
     "text": [
      "total params: \t11177538\n"
     ]
    }
   ],
   "metadata": {
    "colab": {
     "base_uri": "https://localhost:8080/"
    },
    "id": "0N4HPZLxD7If",
    "outputId": "828cfed7-6c81-41eb-e9f1-538f201483e1"
   }
  },
  {
   "cell_type": "markdown",
   "source": [
    "Create Dataset class."
   ],
   "metadata": {
    "id": "kYjSK_3rDl6H"
   }
  },
  {
   "cell_type": "code",
   "execution_count": 6,
   "source": [
    "#this defines our dataset class which will be used by the dataloader\r\n",
    "class Dataset(object):\r\n",
    "   def __init__(self, fname ,img_transform=None):\r\n",
    "      #nothing special here, just internalizing the constructor parameters\r\n",
    "      self.fname=fname\r\n",
    "\r\n",
    "      self.img_transform=img_transform\r\n",
    "      \r\n",
    "      with tables.open_file(self.fname,'r') as db:\r\n",
    "         self.classsizes=db.root.classsizes[:]\r\n",
    "         self.nitems=db.root.imgs.shape[0]\r\n",
    "      \r\n",
    "      self.imgs = None\r\n",
    "      self.labels = None\r\n",
    "      \r\n",
    "   def __getitem__(self, index):\r\n",
    "      #opening should be done in __init__ but seems to be\r\n",
    "      #an issue with multithreading so doing here. need to do it everytime, otherwise hdf5 crashes\r\n",
    "\r\n",
    "      with tables.open_file(self.fname,'r') as db:\r\n",
    "         self.imgs=db.root.imgs\r\n",
    "         self.labels=db.root.labels\r\n",
    "\r\n",
    "         #get the requested image\r\n",
    "         img = self.imgs[index,::]\r\n",
    "         # img = img[:,:,None].repeat(3,axis=2) #convert to 3 channel RGB, MIGHT BE UNNECESSARY DUE TO 3 CHANNEL IMAGES\r\n",
    "         # img = np.transpose(img, (2,0,1))  # \r\n",
    "         label = self.labels[index] \r\n",
    "      \r\n",
    "      img_new = img\r\n",
    "      \r\n",
    "      if self.img_transform is not None:\r\n",
    "         print(index)\r\n",
    "         img_new = self.img_transform(img)\r\n",
    "      return img_new, label, img\r\n",
    "   def __len__(self):\r\n",
    "      return self.nitems"
   ],
   "outputs": [],
   "metadata": {
    "id": "vCF8YJbMDboE"
   }
  },
  {
   "cell_type": "code",
   "execution_count": 7,
   "source": [
    "img_transform = transforms.Compose([\r\n",
    "   transforms.ToPILImage(),\r\n",
    "   # transforms.RandomVerticalFlip(),\r\n",
    "   # transforms.RandomHorizontalFlip(),\r\n",
    "   # transforms.RandomCrop(size=(patch_size,patch_size),pad_if_needed=True), #these need to be in a reproducible order, first affine transforms and then color\r\n",
    "   transforms.ToTensor()\r\n",
    "   ])\r\n",
    "\r\n",
    "dataset={}\r\n",
    "dataLoader={}\r\n",
    "for phase in phases: #now for each of the phases, we're creating the dataloader\r\n",
    "                     #interestingly, given the batch size, i've not seen any improvements from using a num_workers>0\r\n",
    "   \r\n",
    "   dataset[phase]=Dataset(f\"./data/{dataname}_{phase}.pytable\", img_transform=img_transform)\r\n",
    "   dataLoader[phase]=DataLoader(dataset[phase], batch_size=batch_size, \r\n",
    "                              shuffle=False, num_workers=0,pin_memory=True) \r\n",
    "   print(f\"{phase} dataset size:\\t{len(dataset[phase])}\")"
   ],
   "outputs": [
    {
     "output_type": "stream",
     "name": "stdout",
     "text": [
      "train dataset size:\t10000\n",
      "val dataset size:\t1000\n",
      "test dataset size:\t3000\n"
     ]
    }
   ],
   "metadata": {
    "colab": {
     "base_uri": "https://localhost:8080/"
    },
    "id": "uuIQ6w-7PLlj",
    "outputId": "3e765509-11ca-484c-a6ce-7323b842c352"
   }
  },
  {
   "cell_type": "markdown",
   "source": [
    "initialize optimizer. Again might need to look at resnet18 docs to figure out how to get its parameters"
   ],
   "metadata": {
    "id": "QqXFxQYqs_pp"
   }
  },
  {
   "cell_type": "code",
   "execution_count": 8,
   "source": [
    "optim = torch.optim.Adam(resnet18.parameters()) #adam is going to be the most robust, though perhaps not the best performing, typically a good place to start."
   ],
   "outputs": [],
   "metadata": {
    "id": "rUuAiANIPR7V"
   }
  },
  {
   "cell_type": "code",
   "execution_count": 9,
   "source": [
    "#we have the ability to weight individual classes, in this case we'll do so based on their presense in the trainingset\r\n",
    "#to avoid biasing any particular class\r\n",
    "nclasses = dataset[\"train\"].classsizes.shape[0]\r\n",
    "class_weight=dataset[\"train\"].classsizes\r\n",
    "class_weight = torch.from_numpy(1-class_weight/class_weight.sum()).type('torch.FloatTensor').to(device)\r\n",
    "\r\n",
    "print(class_weight) #show final used weights, make sure that they're reasonable before continouing\r\n",
    "criterion = torch.nn.BCEWithLogitsLoss(weight = class_weight)"
   ],
   "outputs": [
    {
     "output_type": "stream",
     "name": "stdout",
     "text": [
      "tensor([0.5012, 0.4988])\n"
     ]
    }
   ],
   "metadata": {
    "colab": {
     "base_uri": "https://localhost:8080/"
    },
    "id": "IK079jBhiXDx",
    "outputId": "a88f04f0-6808-4feb-d2e9-f56564b259f1"
   }
  },
  {
   "cell_type": "code",
   "execution_count": 10,
   "source": [
    "%load_ext line_profiler\r\n",
    "#%lprun\r\n",
    "# %%prun"
   ],
   "outputs": [],
   "metadata": {
    "id": "YTwg67p2PuEM"
   }
  },
  {
   "cell_type": "code",
   "execution_count": 11,
   "source": [
    "def trainnetwork():\r\n",
    "   writer=SummaryWriter() #open the tensorboard visualiser\r\n",
    "   best_loss_on_test = np.Infinity\r\n",
    "\r\n",
    "   start_time = time.time()\r\n",
    "   for epoch in range(num_epochs):\r\n",
    "      #zero out epoch based performance variables \r\n",
    "      all_acc = {key: 0 for key in phases} \r\n",
    "      all_loss = {key: torch.zeros(0).to(device) for key in phases} #keep this on GPU for greatly improved performance\r\n",
    "      cmatrix = {key: np.zeros((n_classes,n_classes)) for key in phases}\r\n",
    "\r\n",
    "      for phase in phases: #iterate through both training and validation states\r\n",
    "\r\n",
    "            if phase == 'train':\r\n",
    "               resnet18.train()  # Set model to training mode\r\n",
    "            else: #when in eval mode, we don't want parameters to be updated\r\n",
    "               resnet18.eval()   # Set model to evaluate mode\r\n",
    "\r\n",
    "            for ii , (X, label, img_orig) in enumerate(dataLoader[phase]): #for each of the batches\r\n",
    "               \r\n",
    "               X = X.to(device)  # [Nbatch, 3, H, W]\r\n",
    "               label = label.type('torch.LongTensor').to(device)  # [Nbatch, 1] with class indices (0, 1, 2,...n_classes)\r\n",
    "\r\n",
    "               with torch.set_grad_enabled(phase == 'train'): #dynamically set gradient computation, in case of validation, this isn't needed\r\n",
    "                                                               #disabling is good practice and improves inference time\r\n",
    "                  prediction = resnet18(X)  # [Nbatch, Nclass]\r\n",
    "                  print(prediction)\r\n",
    "                  loss = criterion(prediction, label)\r\n",
    "               \r\n",
    "                  if phase==\"train\": #in case we're in train mode, need to do back propogation\r\n",
    "                        optim.zero_grad()\r\n",
    "                        loss.backward()\r\n",
    "                        optim.step()\r\n",
    "                        train_loss = loss\r\n",
    "\r\n",
    "\r\n",
    "                  all_loss[phase]=torch.cat((all_loss[phase],loss.detach().view(1,-1)))\r\n",
    "\r\n",
    "                  if phase in validation_phases: #if this phase is part of validation, compute confusion matrix\r\n",
    "                        p=prediction.detach().cpu().numpy()\r\n",
    "                        cpredflat=np.argmax(p,axis=1).flatten()\r\n",
    "                        yflat=label.cpu().numpy().flatten()\r\n",
    "\r\n",
    "                        cmatrix[phase]=cmatrix[phase]+confusion_matrix(yflat,cpredflat, labels=range(nclasses))\r\n",
    "            print(cmatrix[phase].sum())\r\n",
    "            all_acc[phase]=(cmatrix[phase]/cmatrix[phase].sum()).trace()\r\n",
    "            all_loss[phase] = all_loss[phase].cpu().numpy().mean()\r\n",
    "\r\n",
    "            #save metrics to tensorboard\r\n",
    "            writer.add_scalar(f'{phase}/loss', all_loss[phase], epoch)\r\n",
    "            if phase in validation_phases:\r\n",
    "               writer.add_scalar(f'{phase}/acc', all_acc[phase], epoch)\r\n",
    "               for r in range(nclasses):\r\n",
    "                  for c in range(nclasses): #essentially write out confusion matrix\r\n",
    "                        writer.add_scalar(f'{phase}/{r}{c}', cmatrix[phase][r][c],epoch)\r\n",
    "\r\n",
    "      print('%s ([%d/%d] %d%%), train loss: %.4f test loss: %.4f' % (timeSince(start_time, (epoch+1) / num_epochs), \r\n",
    "                                                   epoch+1, num_epochs ,(epoch+1) / num_epochs * 100, all_loss[\"train\"], all_loss[\"val\"]),end=\"\")    \r\n",
    "\r\n",
    "      #if current loss is the best we've seen, save model state with all variables\r\n",
    "      #necessary for recreation\r\n",
    "      if all_loss[\"val\"] < best_loss_on_test:\r\n",
    "            best_loss_on_test = all_loss[\"val\"]\r\n",
    "            print(\"  **\")\r\n",
    "            state = {'epoch': epoch + 1,\r\n",
    "            'model_dict': resnet18.state_dict(),\r\n",
    "            'optim_dict': optim.state_dict(),\r\n",
    "            'best_loss_on_test': all_loss,\r\n",
    "            'n_classes': n_classes}\r\n",
    "            torch.save(state, f\"{dataname}_resnet_best_model.pth\")\r\n",
    "      else:\r\n",
    "            print(\"\")"
   ],
   "outputs": [],
   "metadata": {
    "id": "gavvxg5pV1pH"
   }
  },
  {
   "cell_type": "code",
   "execution_count": 12,
   "source": [
    "%lprun -f trainnetwork trainnetwork()"
   ],
   "outputs": [
    {
     "output_type": "stream",
     "name": "stdout",
     "text": [
      "0\n",
      "1\n",
      "2\n",
      "3\n",
      "4\n",
      "5\n",
      "6\n",
      "7\n",
      "8\n",
      "9\n",
      "10\n",
      "11\n",
      "12\n",
      "13\n",
      "14\n",
      "15\n",
      "16\n",
      "17\n",
      "18\n",
      "19\n",
      "20\n",
      "21\n",
      "22\n",
      "23\n",
      "24\n",
      "25\n",
      "26\n",
      "27\n",
      "28\n",
      "29\n",
      "30\n",
      "31\n",
      "32\n",
      "33\n",
      "34\n",
      "35\n",
      "36\n",
      "37\n",
      "38\n",
      "39\n",
      "40\n",
      "41\n",
      "42\n",
      "43\n",
      "44\n",
      "45\n",
      "46\n",
      "47\n",
      "48\n",
      "49\n",
      "50\n",
      "51\n",
      "52\n",
      "53\n",
      "54\n",
      "55\n",
      "56\n",
      "57\n",
      "58\n",
      "59\n",
      "60\n",
      "61\n",
      "62\n",
      "63\n",
      "tensor([[-1.1434,  0.3688],\n",
      "        [-0.0395, -0.4349],\n",
      "        [-0.0709, -0.4173],\n",
      "        [-0.1445, -1.6772],\n",
      "        [ 0.3168, -0.6194],\n",
      "        [-0.2608, -0.6784],\n",
      "        [-0.5176, -1.2054],\n",
      "        [ 0.1055, -0.6822],\n",
      "        [ 0.4776, -0.5569],\n",
      "        [ 0.0599,  0.7958],\n",
      "        [-1.2158, -0.3529],\n",
      "        [-0.0043, -0.4555],\n",
      "        [ 0.3510, -0.9297],\n",
      "        [ 0.3022, -0.2135],\n",
      "        [-0.2484,  0.2391],\n",
      "        [-0.3166, -1.1087],\n",
      "        [-0.0321, -0.2343],\n",
      "        [ 0.3498,  0.2570],\n",
      "        [ 0.5330, -1.6882],\n",
      "        [ 1.0666, -1.0328],\n",
      "        [ 0.7162, -1.0815],\n",
      "        [ 0.1801, -1.1505],\n",
      "        [ 0.7750,  0.2026],\n",
      "        [-0.0105, -0.9249],\n",
      "        [-0.5498, -1.3738],\n",
      "        [ 0.9631, -1.2126],\n",
      "        [-0.3486, -1.1025],\n",
      "        [ 0.3963, -0.7383],\n",
      "        [-0.3298, -1.0002],\n",
      "        [-0.0854, -0.5048],\n",
      "        [-0.1480,  0.2494],\n",
      "        [-0.9951, -1.6524],\n",
      "        [ 0.1714, -0.2224],\n",
      "        [-0.3279,  0.2297],\n",
      "        [-0.2631, -0.9909],\n",
      "        [-0.7292, -0.1928],\n",
      "        [-0.2974,  0.1100],\n",
      "        [ 0.2789, -0.9471],\n",
      "        [ 1.0151, -1.2611],\n",
      "        [ 0.9217, -0.4868],\n",
      "        [ 0.3925, -0.1975],\n",
      "        [ 0.1348, -0.8179],\n",
      "        [-0.4544, -1.0931],\n",
      "        [ 0.4524, -0.8823],\n",
      "        [-0.0097,  1.3308],\n",
      "        [-0.9813,  0.0055],\n",
      "        [ 0.1529, -0.7834],\n",
      "        [ 0.1334, -1.3499],\n",
      "        [-1.1990, -0.5083],\n",
      "        [ 0.1912, -1.0465],\n",
      "        [-0.3475, -1.4395],\n",
      "        [ 0.2158,  0.0289],\n",
      "        [ 0.0114, -0.2744],\n",
      "        [-0.4306,  0.0464],\n",
      "        [ 0.1240, -0.9873],\n",
      "        [-0.6645,  0.1032],\n",
      "        [ 0.7389, -0.7308],\n",
      "        [ 0.1923, -0.6883],\n",
      "        [-0.5862,  0.2632],\n",
      "        [ 0.4979,  0.5301],\n",
      "        [-1.0955, -0.2298],\n",
      "        [-0.7359, -0.8840],\n",
      "        [-0.0421, -1.2453],\n",
      "        [ 0.4559,  0.2025]], grad_fn=<AddmmBackward>)\n"
     ]
    },
    {
     "output_type": "error",
     "ename": "ValueError",
     "evalue": "Target size (torch.Size([64])) must be the same as input size (torch.Size([64, 2]))",
     "traceback": [
      "\u001b[1;31m---------------------------------------------------------------------------\u001b[0m",
      "\u001b[1;31mValueError\u001b[0m                                Traceback (most recent call last)",
      "\u001b[1;32m<ipython-input-12-a9fcfd52abdb>\u001b[0m in \u001b[0;36m<module>\u001b[1;34m\u001b[0m\n\u001b[1;32m----> 1\u001b[1;33m \u001b[0mget_ipython\u001b[0m\u001b[1;33m(\u001b[0m\u001b[1;33m)\u001b[0m\u001b[1;33m.\u001b[0m\u001b[0mrun_line_magic\u001b[0m\u001b[1;33m(\u001b[0m\u001b[1;34m'lprun'\u001b[0m\u001b[1;33m,\u001b[0m \u001b[1;34m'-f trainnetwork trainnetwork()'\u001b[0m\u001b[1;33m)\u001b[0m\u001b[1;33m\u001b[0m\u001b[1;33m\u001b[0m\u001b[0m\n\u001b[0m",
      "\u001b[1;32m~\\AppData\\Local\\Programs\\Python\\Python39\\lib\\site-packages\\IPython\\core\\interactiveshell.py\u001b[0m in \u001b[0;36mrun_line_magic\u001b[1;34m(self, magic_name, line, _stack_depth)\u001b[0m\n\u001b[0;32m   2346\u001b[0m                 \u001b[0mkwargs\u001b[0m\u001b[1;33m[\u001b[0m\u001b[1;34m'local_ns'\u001b[0m\u001b[1;33m]\u001b[0m \u001b[1;33m=\u001b[0m \u001b[0mself\u001b[0m\u001b[1;33m.\u001b[0m\u001b[0mget_local_scope\u001b[0m\u001b[1;33m(\u001b[0m\u001b[0mstack_depth\u001b[0m\u001b[1;33m)\u001b[0m\u001b[1;33m\u001b[0m\u001b[1;33m\u001b[0m\u001b[0m\n\u001b[0;32m   2347\u001b[0m             \u001b[1;32mwith\u001b[0m \u001b[0mself\u001b[0m\u001b[1;33m.\u001b[0m\u001b[0mbuiltin_trap\u001b[0m\u001b[1;33m:\u001b[0m\u001b[1;33m\u001b[0m\u001b[1;33m\u001b[0m\u001b[0m\n\u001b[1;32m-> 2348\u001b[1;33m                 \u001b[0mresult\u001b[0m \u001b[1;33m=\u001b[0m \u001b[0mfn\u001b[0m\u001b[1;33m(\u001b[0m\u001b[1;33m*\u001b[0m\u001b[0margs\u001b[0m\u001b[1;33m,\u001b[0m \u001b[1;33m**\u001b[0m\u001b[0mkwargs\u001b[0m\u001b[1;33m)\u001b[0m\u001b[1;33m\u001b[0m\u001b[1;33m\u001b[0m\u001b[0m\n\u001b[0m\u001b[0;32m   2349\u001b[0m             \u001b[1;32mreturn\u001b[0m \u001b[0mresult\u001b[0m\u001b[1;33m\u001b[0m\u001b[1;33m\u001b[0m\u001b[0m\n\u001b[0;32m   2350\u001b[0m \u001b[1;33m\u001b[0m\u001b[0m\n",
      "\u001b[1;32m~\\AppData\\Local\\Programs\\Python\\Python39\\lib\\site-packages\\decorator.py\u001b[0m in \u001b[0;36mfun\u001b[1;34m(*args, **kw)\u001b[0m\n\u001b[0;32m    230\u001b[0m             \u001b[1;32mif\u001b[0m \u001b[1;32mnot\u001b[0m \u001b[0mkwsyntax\u001b[0m\u001b[1;33m:\u001b[0m\u001b[1;33m\u001b[0m\u001b[1;33m\u001b[0m\u001b[0m\n\u001b[0;32m    231\u001b[0m                 \u001b[0margs\u001b[0m\u001b[1;33m,\u001b[0m \u001b[0mkw\u001b[0m \u001b[1;33m=\u001b[0m \u001b[0mfix\u001b[0m\u001b[1;33m(\u001b[0m\u001b[0margs\u001b[0m\u001b[1;33m,\u001b[0m \u001b[0mkw\u001b[0m\u001b[1;33m,\u001b[0m \u001b[0msig\u001b[0m\u001b[1;33m)\u001b[0m\u001b[1;33m\u001b[0m\u001b[1;33m\u001b[0m\u001b[0m\n\u001b[1;32m--> 232\u001b[1;33m             \u001b[1;32mreturn\u001b[0m \u001b[0mcaller\u001b[0m\u001b[1;33m(\u001b[0m\u001b[0mfunc\u001b[0m\u001b[1;33m,\u001b[0m \u001b[1;33m*\u001b[0m\u001b[1;33m(\u001b[0m\u001b[0mextras\u001b[0m \u001b[1;33m+\u001b[0m \u001b[0margs\u001b[0m\u001b[1;33m)\u001b[0m\u001b[1;33m,\u001b[0m \u001b[1;33m**\u001b[0m\u001b[0mkw\u001b[0m\u001b[1;33m)\u001b[0m\u001b[1;33m\u001b[0m\u001b[1;33m\u001b[0m\u001b[0m\n\u001b[0m\u001b[0;32m    233\u001b[0m     \u001b[0mfun\u001b[0m\u001b[1;33m.\u001b[0m\u001b[0m__name__\u001b[0m \u001b[1;33m=\u001b[0m \u001b[0mfunc\u001b[0m\u001b[1;33m.\u001b[0m\u001b[0m__name__\u001b[0m\u001b[1;33m\u001b[0m\u001b[1;33m\u001b[0m\u001b[0m\n\u001b[0;32m    234\u001b[0m     \u001b[0mfun\u001b[0m\u001b[1;33m.\u001b[0m\u001b[0m__doc__\u001b[0m \u001b[1;33m=\u001b[0m \u001b[0mfunc\u001b[0m\u001b[1;33m.\u001b[0m\u001b[0m__doc__\u001b[0m\u001b[1;33m\u001b[0m\u001b[1;33m\u001b[0m\u001b[0m\n",
      "\u001b[1;32m~\\AppData\\Local\\Programs\\Python\\Python39\\lib\\site-packages\\IPython\\core\\magic.py\u001b[0m in \u001b[0;36m<lambda>\u001b[1;34m(f, *a, **k)\u001b[0m\n\u001b[0;32m    185\u001b[0m     \u001b[1;31m# but it's overkill for just that one bit of state.\u001b[0m\u001b[1;33m\u001b[0m\u001b[1;33m\u001b[0m\u001b[1;33m\u001b[0m\u001b[0m\n\u001b[0;32m    186\u001b[0m     \u001b[1;32mdef\u001b[0m \u001b[0mmagic_deco\u001b[0m\u001b[1;33m(\u001b[0m\u001b[0marg\u001b[0m\u001b[1;33m)\u001b[0m\u001b[1;33m:\u001b[0m\u001b[1;33m\u001b[0m\u001b[1;33m\u001b[0m\u001b[0m\n\u001b[1;32m--> 187\u001b[1;33m         \u001b[0mcall\u001b[0m \u001b[1;33m=\u001b[0m \u001b[1;32mlambda\u001b[0m \u001b[0mf\u001b[0m\u001b[1;33m,\u001b[0m \u001b[1;33m*\u001b[0m\u001b[0ma\u001b[0m\u001b[1;33m,\u001b[0m \u001b[1;33m**\u001b[0m\u001b[0mk\u001b[0m\u001b[1;33m:\u001b[0m \u001b[0mf\u001b[0m\u001b[1;33m(\u001b[0m\u001b[1;33m*\u001b[0m\u001b[0ma\u001b[0m\u001b[1;33m,\u001b[0m \u001b[1;33m**\u001b[0m\u001b[0mk\u001b[0m\u001b[1;33m)\u001b[0m\u001b[1;33m\u001b[0m\u001b[1;33m\u001b[0m\u001b[0m\n\u001b[0m\u001b[0;32m    188\u001b[0m \u001b[1;33m\u001b[0m\u001b[0m\n\u001b[0;32m    189\u001b[0m         \u001b[1;32mif\u001b[0m \u001b[0mcallable\u001b[0m\u001b[1;33m(\u001b[0m\u001b[0marg\u001b[0m\u001b[1;33m)\u001b[0m\u001b[1;33m:\u001b[0m\u001b[1;33m\u001b[0m\u001b[1;33m\u001b[0m\u001b[0m\n",
      "\u001b[1;32m~\\AppData\\Local\\Programs\\Python\\Python39\\lib\\site-packages\\line_profiler\\line_profiler.py\u001b[0m in \u001b[0;36mlprun\u001b[1;34m(self, parameter_s)\u001b[0m\n\u001b[0;32m    367\u001b[0m         \u001b[1;32mtry\u001b[0m\u001b[1;33m:\u001b[0m\u001b[1;33m\u001b[0m\u001b[1;33m\u001b[0m\u001b[0m\n\u001b[0;32m    368\u001b[0m             \u001b[1;32mtry\u001b[0m\u001b[1;33m:\u001b[0m\u001b[1;33m\u001b[0m\u001b[1;33m\u001b[0m\u001b[0m\n\u001b[1;32m--> 369\u001b[1;33m                 \u001b[0mprofile\u001b[0m\u001b[1;33m.\u001b[0m\u001b[0mrunctx\u001b[0m\u001b[1;33m(\u001b[0m\u001b[0marg_str\u001b[0m\u001b[1;33m,\u001b[0m \u001b[0mglobal_ns\u001b[0m\u001b[1;33m,\u001b[0m \u001b[0mlocal_ns\u001b[0m\u001b[1;33m)\u001b[0m\u001b[1;33m\u001b[0m\u001b[1;33m\u001b[0m\u001b[0m\n\u001b[0m\u001b[0;32m    370\u001b[0m                 \u001b[0mmessage\u001b[0m \u001b[1;33m=\u001b[0m \u001b[1;34m''\u001b[0m\u001b[1;33m\u001b[0m\u001b[1;33m\u001b[0m\u001b[0m\n\u001b[0;32m    371\u001b[0m             \u001b[1;32mexcept\u001b[0m \u001b[0mSystemExit\u001b[0m\u001b[1;33m:\u001b[0m\u001b[1;33m\u001b[0m\u001b[1;33m\u001b[0m\u001b[0m\n",
      "\u001b[1;32m~\\AppData\\Local\\Programs\\Python\\Python39\\lib\\site-packages\\line_profiler\\line_profiler.py\u001b[0m in \u001b[0;36mrunctx\u001b[1;34m(self, cmd, globals, locals)\u001b[0m\n\u001b[0;32m    162\u001b[0m         \u001b[0mself\u001b[0m\u001b[1;33m.\u001b[0m\u001b[0menable_by_count\u001b[0m\u001b[1;33m(\u001b[0m\u001b[1;33m)\u001b[0m\u001b[1;33m\u001b[0m\u001b[1;33m\u001b[0m\u001b[0m\n\u001b[0;32m    163\u001b[0m         \u001b[1;32mtry\u001b[0m\u001b[1;33m:\u001b[0m\u001b[1;33m\u001b[0m\u001b[1;33m\u001b[0m\u001b[0m\n\u001b[1;32m--> 164\u001b[1;33m             \u001b[0mexec_\u001b[0m\u001b[1;33m(\u001b[0m\u001b[0mcmd\u001b[0m\u001b[1;33m,\u001b[0m \u001b[0mglobals\u001b[0m\u001b[1;33m,\u001b[0m \u001b[0mlocals\u001b[0m\u001b[1;33m)\u001b[0m\u001b[1;33m\u001b[0m\u001b[1;33m\u001b[0m\u001b[0m\n\u001b[0m\u001b[0;32m    165\u001b[0m         \u001b[1;32mfinally\u001b[0m\u001b[1;33m:\u001b[0m\u001b[1;33m\u001b[0m\u001b[1;33m\u001b[0m\u001b[0m\n\u001b[0;32m    166\u001b[0m             \u001b[0mself\u001b[0m\u001b[1;33m.\u001b[0m\u001b[0mdisable_by_count\u001b[0m\u001b[1;33m(\u001b[0m\u001b[1;33m)\u001b[0m\u001b[1;33m\u001b[0m\u001b[1;33m\u001b[0m\u001b[0m\n",
      "\u001b[1;32m<string>\u001b[0m in \u001b[0;36m<module>\u001b[1;34m\u001b[0m\n",
      "\u001b[1;32m<ipython-input-11-bbf6367a9fe5>\u001b[0m in \u001b[0;36mtrainnetwork\u001b[1;34m()\u001b[0m\n\u001b[0;32m     27\u001b[0m                     \u001b[0mprediction\u001b[0m \u001b[1;33m=\u001b[0m \u001b[0mresnet18\u001b[0m\u001b[1;33m(\u001b[0m\u001b[0mX\u001b[0m\u001b[1;33m)\u001b[0m  \u001b[1;31m# [Nbatch, Nclass]\u001b[0m\u001b[1;33m\u001b[0m\u001b[1;33m\u001b[0m\u001b[0m\n\u001b[0;32m     28\u001b[0m                     \u001b[0mprint\u001b[0m\u001b[1;33m(\u001b[0m\u001b[0mprediction\u001b[0m\u001b[1;33m)\u001b[0m\u001b[1;33m\u001b[0m\u001b[1;33m\u001b[0m\u001b[0m\n\u001b[1;32m---> 29\u001b[1;33m                     \u001b[0mloss\u001b[0m \u001b[1;33m=\u001b[0m \u001b[0mcriterion\u001b[0m\u001b[1;33m(\u001b[0m\u001b[0mprediction\u001b[0m\u001b[1;33m,\u001b[0m \u001b[0mlabel\u001b[0m\u001b[1;33m)\u001b[0m\u001b[1;33m\u001b[0m\u001b[1;33m\u001b[0m\u001b[0m\n\u001b[0m\u001b[0;32m     30\u001b[0m \u001b[1;33m\u001b[0m\u001b[0m\n\u001b[0;32m     31\u001b[0m                     \u001b[1;32mif\u001b[0m \u001b[0mphase\u001b[0m\u001b[1;33m==\u001b[0m\u001b[1;34m\"train\"\u001b[0m\u001b[1;33m:\u001b[0m \u001b[1;31m#in case we're in train mode, need to do back propogation\u001b[0m\u001b[1;33m\u001b[0m\u001b[1;33m\u001b[0m\u001b[0m\n",
      "\u001b[1;32m~\\AppData\\Local\\Programs\\Python\\Python39\\lib\\site-packages\\torch\\nn\\modules\\module.py\u001b[0m in \u001b[0;36m_call_impl\u001b[1;34m(self, *input, **kwargs)\u001b[0m\n\u001b[0;32m    887\u001b[0m             \u001b[0mresult\u001b[0m \u001b[1;33m=\u001b[0m \u001b[0mself\u001b[0m\u001b[1;33m.\u001b[0m\u001b[0m_slow_forward\u001b[0m\u001b[1;33m(\u001b[0m\u001b[1;33m*\u001b[0m\u001b[0minput\u001b[0m\u001b[1;33m,\u001b[0m \u001b[1;33m**\u001b[0m\u001b[0mkwargs\u001b[0m\u001b[1;33m)\u001b[0m\u001b[1;33m\u001b[0m\u001b[1;33m\u001b[0m\u001b[0m\n\u001b[0;32m    888\u001b[0m         \u001b[1;32melse\u001b[0m\u001b[1;33m:\u001b[0m\u001b[1;33m\u001b[0m\u001b[1;33m\u001b[0m\u001b[0m\n\u001b[1;32m--> 889\u001b[1;33m             \u001b[0mresult\u001b[0m \u001b[1;33m=\u001b[0m \u001b[0mself\u001b[0m\u001b[1;33m.\u001b[0m\u001b[0mforward\u001b[0m\u001b[1;33m(\u001b[0m\u001b[1;33m*\u001b[0m\u001b[0minput\u001b[0m\u001b[1;33m,\u001b[0m \u001b[1;33m**\u001b[0m\u001b[0mkwargs\u001b[0m\u001b[1;33m)\u001b[0m\u001b[1;33m\u001b[0m\u001b[1;33m\u001b[0m\u001b[0m\n\u001b[0m\u001b[0;32m    890\u001b[0m         for hook in itertools.chain(\n\u001b[0;32m    891\u001b[0m                 \u001b[0m_global_forward_hooks\u001b[0m\u001b[1;33m.\u001b[0m\u001b[0mvalues\u001b[0m\u001b[1;33m(\u001b[0m\u001b[1;33m)\u001b[0m\u001b[1;33m,\u001b[0m\u001b[1;33m\u001b[0m\u001b[1;33m\u001b[0m\u001b[0m\n",
      "\u001b[1;32m~\\AppData\\Local\\Programs\\Python\\Python39\\lib\\site-packages\\torch\\nn\\modules\\loss.py\u001b[0m in \u001b[0;36mforward\u001b[1;34m(self, input, target)\u001b[0m\n\u001b[0;32m    712\u001b[0m         \u001b[1;32massert\u001b[0m \u001b[0mself\u001b[0m\u001b[1;33m.\u001b[0m\u001b[0mweight\u001b[0m \u001b[1;32mis\u001b[0m \u001b[1;32mNone\u001b[0m \u001b[1;32mor\u001b[0m \u001b[0misinstance\u001b[0m\u001b[1;33m(\u001b[0m\u001b[0mself\u001b[0m\u001b[1;33m.\u001b[0m\u001b[0mweight\u001b[0m\u001b[1;33m,\u001b[0m \u001b[0mTensor\u001b[0m\u001b[1;33m)\u001b[0m\u001b[1;33m\u001b[0m\u001b[1;33m\u001b[0m\u001b[0m\n\u001b[0;32m    713\u001b[0m         \u001b[1;32massert\u001b[0m \u001b[0mself\u001b[0m\u001b[1;33m.\u001b[0m\u001b[0mpos_weight\u001b[0m \u001b[1;32mis\u001b[0m \u001b[1;32mNone\u001b[0m \u001b[1;32mor\u001b[0m \u001b[0misinstance\u001b[0m\u001b[1;33m(\u001b[0m\u001b[0mself\u001b[0m\u001b[1;33m.\u001b[0m\u001b[0mpos_weight\u001b[0m\u001b[1;33m,\u001b[0m \u001b[0mTensor\u001b[0m\u001b[1;33m)\u001b[0m\u001b[1;33m\u001b[0m\u001b[1;33m\u001b[0m\u001b[0m\n\u001b[1;32m--> 714\u001b[1;33m         return F.binary_cross_entropy_with_logits(input, target,\n\u001b[0m\u001b[0;32m    715\u001b[0m                                                   \u001b[0mself\u001b[0m\u001b[1;33m.\u001b[0m\u001b[0mweight\u001b[0m\u001b[1;33m,\u001b[0m\u001b[1;33m\u001b[0m\u001b[1;33m\u001b[0m\u001b[0m\n\u001b[0;32m    716\u001b[0m                                                   \u001b[0mpos_weight\u001b[0m\u001b[1;33m=\u001b[0m\u001b[0mself\u001b[0m\u001b[1;33m.\u001b[0m\u001b[0mpos_weight\u001b[0m\u001b[1;33m,\u001b[0m\u001b[1;33m\u001b[0m\u001b[1;33m\u001b[0m\u001b[0m\n",
      "\u001b[1;32m~\\AppData\\Local\\Programs\\Python\\Python39\\lib\\site-packages\\torch\\nn\\functional.py\u001b[0m in \u001b[0;36mbinary_cross_entropy_with_logits\u001b[1;34m(input, target, weight, size_average, reduce, reduction, pos_weight)\u001b[0m\n\u001b[0;32m   2825\u001b[0m \u001b[1;33m\u001b[0m\u001b[0m\n\u001b[0;32m   2826\u001b[0m     \u001b[1;32mif\u001b[0m \u001b[1;32mnot\u001b[0m \u001b[1;33m(\u001b[0m\u001b[0mtarget\u001b[0m\u001b[1;33m.\u001b[0m\u001b[0msize\u001b[0m\u001b[1;33m(\u001b[0m\u001b[1;33m)\u001b[0m \u001b[1;33m==\u001b[0m \u001b[0minput\u001b[0m\u001b[1;33m.\u001b[0m\u001b[0msize\u001b[0m\u001b[1;33m(\u001b[0m\u001b[1;33m)\u001b[0m\u001b[1;33m)\u001b[0m\u001b[1;33m:\u001b[0m\u001b[1;33m\u001b[0m\u001b[1;33m\u001b[0m\u001b[0m\n\u001b[1;32m-> 2827\u001b[1;33m         \u001b[1;32mraise\u001b[0m \u001b[0mValueError\u001b[0m\u001b[1;33m(\u001b[0m\u001b[1;34m\"Target size ({}) must be the same as input size ({})\"\u001b[0m\u001b[1;33m.\u001b[0m\u001b[0mformat\u001b[0m\u001b[1;33m(\u001b[0m\u001b[0mtarget\u001b[0m\u001b[1;33m.\u001b[0m\u001b[0msize\u001b[0m\u001b[1;33m(\u001b[0m\u001b[1;33m)\u001b[0m\u001b[1;33m,\u001b[0m \u001b[0minput\u001b[0m\u001b[1;33m.\u001b[0m\u001b[0msize\u001b[0m\u001b[1;33m(\u001b[0m\u001b[1;33m)\u001b[0m\u001b[1;33m)\u001b[0m\u001b[1;33m)\u001b[0m\u001b[1;33m\u001b[0m\u001b[1;33m\u001b[0m\u001b[0m\n\u001b[0m\u001b[0;32m   2828\u001b[0m \u001b[1;33m\u001b[0m\u001b[0m\n\u001b[0;32m   2829\u001b[0m     \u001b[1;32mreturn\u001b[0m \u001b[0mtorch\u001b[0m\u001b[1;33m.\u001b[0m\u001b[0mbinary_cross_entropy_with_logits\u001b[0m\u001b[1;33m(\u001b[0m\u001b[0minput\u001b[0m\u001b[1;33m,\u001b[0m \u001b[0mtarget\u001b[0m\u001b[1;33m,\u001b[0m \u001b[0mweight\u001b[0m\u001b[1;33m,\u001b[0m \u001b[0mpos_weight\u001b[0m\u001b[1;33m,\u001b[0m \u001b[0mreduction_enum\u001b[0m\u001b[1;33m)\u001b[0m\u001b[1;33m\u001b[0m\u001b[1;33m\u001b[0m\u001b[0m\n",
      "\u001b[1;31mValueError\u001b[0m: Target size (torch.Size([64])) must be the same as input size (torch.Size([64, 2]))"
     ]
    }
   ],
   "metadata": {
    "colab": {
     "base_uri": "https://localhost:8080/"
    },
    "id": "WHHAfJ-dX0w9",
    "outputId": "24091189-8e2e-4194-9750-247f91178725",
    "scrolled": true,
    "tags": []
   }
  },
  {
   "cell_type": "code",
   "execution_count": 13,
   "source": [
    "trainnetwork()"
   ],
   "outputs": [
    {
     "output_type": "stream",
     "name": "stdout",
     "text": [
      "0\n",
      "1\n",
      "2\n",
      "3\n",
      "4\n",
      "5\n",
      "6\n",
      "7\n",
      "8\n",
      "9\n",
      "10\n",
      "11\n",
      "12\n",
      "13\n",
      "14\n",
      "15\n",
      "16\n",
      "17\n",
      "18\n",
      "19\n",
      "20\n",
      "21\n",
      "22\n",
      "23\n",
      "24\n",
      "25\n",
      "26\n",
      "27\n",
      "28\n",
      "29\n",
      "30\n",
      "31\n",
      "32\n",
      "33\n",
      "34\n",
      "35\n",
      "36\n",
      "37\n",
      "38\n",
      "39\n",
      "40\n",
      "41\n",
      "42\n",
      "43\n",
      "44\n",
      "45\n",
      "46\n",
      "47\n",
      "48\n",
      "49\n",
      "50\n",
      "51\n",
      "52\n",
      "53\n",
      "54\n",
      "55\n",
      "56\n",
      "57\n",
      "58\n",
      "59\n",
      "60\n",
      "61\n",
      "62\n",
      "63\n",
      "tensor([[-1.1434,  0.3688],\n",
      "        [-0.0395, -0.4349],\n",
      "        [-0.0709, -0.4173],\n",
      "        [-0.1445, -1.6772],\n",
      "        [ 0.3168, -0.6194],\n",
      "        [-0.2608, -0.6784],\n",
      "        [-0.5176, -1.2054],\n",
      "        [ 0.1055, -0.6822],\n",
      "        [ 0.4776, -0.5569],\n",
      "        [ 0.0599,  0.7958],\n",
      "        [-1.2158, -0.3529],\n",
      "        [-0.0043, -0.4555],\n",
      "        [ 0.3510, -0.9297],\n",
      "        [ 0.3022, -0.2135],\n",
      "        [-0.2484,  0.2391],\n",
      "        [-0.3166, -1.1087],\n",
      "        [-0.0321, -0.2343],\n",
      "        [ 0.3498,  0.2570],\n",
      "        [ 0.5330, -1.6882],\n",
      "        [ 1.0666, -1.0328],\n",
      "        [ 0.7162, -1.0815],\n",
      "        [ 0.1801, -1.1505],\n",
      "        [ 0.7750,  0.2026],\n",
      "        [-0.0105, -0.9249],\n",
      "        [-0.5498, -1.3738],\n",
      "        [ 0.9631, -1.2126],\n",
      "        [-0.3486, -1.1025],\n",
      "        [ 0.3963, -0.7383],\n",
      "        [-0.3298, -1.0002],\n",
      "        [-0.0854, -0.5048],\n",
      "        [-0.1480,  0.2494],\n",
      "        [-0.9951, -1.6524],\n",
      "        [ 0.1714, -0.2224],\n",
      "        [-0.3279,  0.2297],\n",
      "        [-0.2631, -0.9909],\n",
      "        [-0.7292, -0.1928],\n",
      "        [-0.2974,  0.1100],\n",
      "        [ 0.2789, -0.9471],\n",
      "        [ 1.0151, -1.2611],\n",
      "        [ 0.9217, -0.4868],\n",
      "        [ 0.3925, -0.1975],\n",
      "        [ 0.1348, -0.8179],\n",
      "        [-0.4544, -1.0931],\n",
      "        [ 0.4524, -0.8823],\n",
      "        [-0.0097,  1.3308],\n",
      "        [-0.9813,  0.0055],\n",
      "        [ 0.1529, -0.7834],\n",
      "        [ 0.1334, -1.3499],\n",
      "        [-1.1990, -0.5083],\n",
      "        [ 0.1912, -1.0465],\n",
      "        [-0.3475, -1.4395],\n",
      "        [ 0.2158,  0.0289],\n",
      "        [ 0.0114, -0.2744],\n",
      "        [-0.4306,  0.0464],\n",
      "        [ 0.1240, -0.9873],\n",
      "        [-0.6645,  0.1032],\n",
      "        [ 0.7389, -0.7308],\n",
      "        [ 0.1923, -0.6883],\n",
      "        [-0.5862,  0.2632],\n",
      "        [ 0.4979,  0.5301],\n",
      "        [-1.0955, -0.2298],\n",
      "        [-0.7359, -0.8840],\n",
      "        [-0.0421, -1.2453],\n",
      "        [ 0.4559,  0.2025]], grad_fn=<AddmmBackward>)\n"
     ]
    },
    {
     "output_type": "error",
     "ename": "ValueError",
     "evalue": "Target size (torch.Size([64])) must be the same as input size (torch.Size([64, 2]))",
     "traceback": [
      "\u001b[1;31m---------------------------------------------------------------------------\u001b[0m",
      "\u001b[1;31mValueError\u001b[0m                                Traceback (most recent call last)",
      "\u001b[1;32m<ipython-input-13-58f8ac87a2f8>\u001b[0m in \u001b[0;36m<module>\u001b[1;34m\u001b[0m\n\u001b[1;32m----> 1\u001b[1;33m \u001b[0mtrainnetwork\u001b[0m\u001b[1;33m(\u001b[0m\u001b[1;33m)\u001b[0m\u001b[1;33m\u001b[0m\u001b[1;33m\u001b[0m\u001b[0m\n\u001b[0m",
      "\u001b[1;32m<ipython-input-11-bbf6367a9fe5>\u001b[0m in \u001b[0;36mtrainnetwork\u001b[1;34m()\u001b[0m\n\u001b[0;32m     27\u001b[0m                     \u001b[0mprediction\u001b[0m \u001b[1;33m=\u001b[0m \u001b[0mresnet18\u001b[0m\u001b[1;33m(\u001b[0m\u001b[0mX\u001b[0m\u001b[1;33m)\u001b[0m  \u001b[1;31m# [Nbatch, Nclass]\u001b[0m\u001b[1;33m\u001b[0m\u001b[1;33m\u001b[0m\u001b[0m\n\u001b[0;32m     28\u001b[0m                     \u001b[0mprint\u001b[0m\u001b[1;33m(\u001b[0m\u001b[0mprediction\u001b[0m\u001b[1;33m)\u001b[0m\u001b[1;33m\u001b[0m\u001b[1;33m\u001b[0m\u001b[0m\n\u001b[1;32m---> 29\u001b[1;33m                     \u001b[0mloss\u001b[0m \u001b[1;33m=\u001b[0m \u001b[0mcriterion\u001b[0m\u001b[1;33m(\u001b[0m\u001b[0mprediction\u001b[0m\u001b[1;33m,\u001b[0m \u001b[0mlabel\u001b[0m\u001b[1;33m)\u001b[0m\u001b[1;33m\u001b[0m\u001b[1;33m\u001b[0m\u001b[0m\n\u001b[0m\u001b[0;32m     30\u001b[0m \u001b[1;33m\u001b[0m\u001b[0m\n\u001b[0;32m     31\u001b[0m                     \u001b[1;32mif\u001b[0m \u001b[0mphase\u001b[0m\u001b[1;33m==\u001b[0m\u001b[1;34m\"train\"\u001b[0m\u001b[1;33m:\u001b[0m \u001b[1;31m#in case we're in train mode, need to do back propogation\u001b[0m\u001b[1;33m\u001b[0m\u001b[1;33m\u001b[0m\u001b[0m\n",
      "\u001b[1;32m~\\AppData\\Local\\Programs\\Python\\Python39\\lib\\site-packages\\torch\\nn\\modules\\module.py\u001b[0m in \u001b[0;36m_call_impl\u001b[1;34m(self, *input, **kwargs)\u001b[0m\n\u001b[0;32m    887\u001b[0m             \u001b[0mresult\u001b[0m \u001b[1;33m=\u001b[0m \u001b[0mself\u001b[0m\u001b[1;33m.\u001b[0m\u001b[0m_slow_forward\u001b[0m\u001b[1;33m(\u001b[0m\u001b[1;33m*\u001b[0m\u001b[0minput\u001b[0m\u001b[1;33m,\u001b[0m \u001b[1;33m**\u001b[0m\u001b[0mkwargs\u001b[0m\u001b[1;33m)\u001b[0m\u001b[1;33m\u001b[0m\u001b[1;33m\u001b[0m\u001b[0m\n\u001b[0;32m    888\u001b[0m         \u001b[1;32melse\u001b[0m\u001b[1;33m:\u001b[0m\u001b[1;33m\u001b[0m\u001b[1;33m\u001b[0m\u001b[0m\n\u001b[1;32m--> 889\u001b[1;33m             \u001b[0mresult\u001b[0m \u001b[1;33m=\u001b[0m \u001b[0mself\u001b[0m\u001b[1;33m.\u001b[0m\u001b[0mforward\u001b[0m\u001b[1;33m(\u001b[0m\u001b[1;33m*\u001b[0m\u001b[0minput\u001b[0m\u001b[1;33m,\u001b[0m \u001b[1;33m**\u001b[0m\u001b[0mkwargs\u001b[0m\u001b[1;33m)\u001b[0m\u001b[1;33m\u001b[0m\u001b[1;33m\u001b[0m\u001b[0m\n\u001b[0m\u001b[0;32m    890\u001b[0m         for hook in itertools.chain(\n\u001b[0;32m    891\u001b[0m                 \u001b[0m_global_forward_hooks\u001b[0m\u001b[1;33m.\u001b[0m\u001b[0mvalues\u001b[0m\u001b[1;33m(\u001b[0m\u001b[1;33m)\u001b[0m\u001b[1;33m,\u001b[0m\u001b[1;33m\u001b[0m\u001b[1;33m\u001b[0m\u001b[0m\n",
      "\u001b[1;32m~\\AppData\\Local\\Programs\\Python\\Python39\\lib\\site-packages\\torch\\nn\\modules\\loss.py\u001b[0m in \u001b[0;36mforward\u001b[1;34m(self, input, target)\u001b[0m\n\u001b[0;32m    712\u001b[0m         \u001b[1;32massert\u001b[0m \u001b[0mself\u001b[0m\u001b[1;33m.\u001b[0m\u001b[0mweight\u001b[0m \u001b[1;32mis\u001b[0m \u001b[1;32mNone\u001b[0m \u001b[1;32mor\u001b[0m \u001b[0misinstance\u001b[0m\u001b[1;33m(\u001b[0m\u001b[0mself\u001b[0m\u001b[1;33m.\u001b[0m\u001b[0mweight\u001b[0m\u001b[1;33m,\u001b[0m \u001b[0mTensor\u001b[0m\u001b[1;33m)\u001b[0m\u001b[1;33m\u001b[0m\u001b[1;33m\u001b[0m\u001b[0m\n\u001b[0;32m    713\u001b[0m         \u001b[1;32massert\u001b[0m \u001b[0mself\u001b[0m\u001b[1;33m.\u001b[0m\u001b[0mpos_weight\u001b[0m \u001b[1;32mis\u001b[0m \u001b[1;32mNone\u001b[0m \u001b[1;32mor\u001b[0m \u001b[0misinstance\u001b[0m\u001b[1;33m(\u001b[0m\u001b[0mself\u001b[0m\u001b[1;33m.\u001b[0m\u001b[0mpos_weight\u001b[0m\u001b[1;33m,\u001b[0m \u001b[0mTensor\u001b[0m\u001b[1;33m)\u001b[0m\u001b[1;33m\u001b[0m\u001b[1;33m\u001b[0m\u001b[0m\n\u001b[1;32m--> 714\u001b[1;33m         return F.binary_cross_entropy_with_logits(input, target,\n\u001b[0m\u001b[0;32m    715\u001b[0m                                                   \u001b[0mself\u001b[0m\u001b[1;33m.\u001b[0m\u001b[0mweight\u001b[0m\u001b[1;33m,\u001b[0m\u001b[1;33m\u001b[0m\u001b[1;33m\u001b[0m\u001b[0m\n\u001b[0;32m    716\u001b[0m                                                   \u001b[0mpos_weight\u001b[0m\u001b[1;33m=\u001b[0m\u001b[0mself\u001b[0m\u001b[1;33m.\u001b[0m\u001b[0mpos_weight\u001b[0m\u001b[1;33m,\u001b[0m\u001b[1;33m\u001b[0m\u001b[1;33m\u001b[0m\u001b[0m\n",
      "\u001b[1;32m~\\AppData\\Local\\Programs\\Python\\Python39\\lib\\site-packages\\torch\\nn\\functional.py\u001b[0m in \u001b[0;36mbinary_cross_entropy_with_logits\u001b[1;34m(input, target, weight, size_average, reduce, reduction, pos_weight)\u001b[0m\n\u001b[0;32m   2825\u001b[0m \u001b[1;33m\u001b[0m\u001b[0m\n\u001b[0;32m   2826\u001b[0m     \u001b[1;32mif\u001b[0m \u001b[1;32mnot\u001b[0m \u001b[1;33m(\u001b[0m\u001b[0mtarget\u001b[0m\u001b[1;33m.\u001b[0m\u001b[0msize\u001b[0m\u001b[1;33m(\u001b[0m\u001b[1;33m)\u001b[0m \u001b[1;33m==\u001b[0m \u001b[0minput\u001b[0m\u001b[1;33m.\u001b[0m\u001b[0msize\u001b[0m\u001b[1;33m(\u001b[0m\u001b[1;33m)\u001b[0m\u001b[1;33m)\u001b[0m\u001b[1;33m:\u001b[0m\u001b[1;33m\u001b[0m\u001b[1;33m\u001b[0m\u001b[0m\n\u001b[1;32m-> 2827\u001b[1;33m         \u001b[1;32mraise\u001b[0m \u001b[0mValueError\u001b[0m\u001b[1;33m(\u001b[0m\u001b[1;34m\"Target size ({}) must be the same as input size ({})\"\u001b[0m\u001b[1;33m.\u001b[0m\u001b[0mformat\u001b[0m\u001b[1;33m(\u001b[0m\u001b[0mtarget\u001b[0m\u001b[1;33m.\u001b[0m\u001b[0msize\u001b[0m\u001b[1;33m(\u001b[0m\u001b[1;33m)\u001b[0m\u001b[1;33m,\u001b[0m \u001b[0minput\u001b[0m\u001b[1;33m.\u001b[0m\u001b[0msize\u001b[0m\u001b[1;33m(\u001b[0m\u001b[1;33m)\u001b[0m\u001b[1;33m)\u001b[0m\u001b[1;33m)\u001b[0m\u001b[1;33m\u001b[0m\u001b[1;33m\u001b[0m\u001b[0m\n\u001b[0m\u001b[0;32m   2828\u001b[0m \u001b[1;33m\u001b[0m\u001b[0m\n\u001b[0;32m   2829\u001b[0m     \u001b[1;32mreturn\u001b[0m \u001b[0mtorch\u001b[0m\u001b[1;33m.\u001b[0m\u001b[0mbinary_cross_entropy_with_logits\u001b[0m\u001b[1;33m(\u001b[0m\u001b[0minput\u001b[0m\u001b[1;33m,\u001b[0m \u001b[0mtarget\u001b[0m\u001b[1;33m,\u001b[0m \u001b[0mweight\u001b[0m\u001b[1;33m,\u001b[0m \u001b[0mpos_weight\u001b[0m\u001b[1;33m,\u001b[0m \u001b[0mreduction_enum\u001b[0m\u001b[1;33m)\u001b[0m\u001b[1;33m\u001b[0m\u001b[1;33m\u001b[0m\u001b[0m\n",
      "\u001b[1;31mValueError\u001b[0m: Target size (torch.Size([64])) must be the same as input size (torch.Size([64, 2]))"
     ]
    }
   ],
   "metadata": {}
  },
  {
   "cell_type": "code",
   "execution_count": null,
   "source": [
    "%reload_ext tensorboard"
   ],
   "outputs": [],
   "metadata": {}
  },
  {
   "cell_type": "code",
   "execution_count": null,
   "source": [
    "%tensorboard --logdir runs --host localhost --port 6008"
   ],
   "outputs": [],
   "metadata": {}
  },
  {
   "cell_type": "code",
   "execution_count": null,
   "source": [],
   "outputs": [],
   "metadata": {}
  }
 ],
 "metadata": {
  "colab": {
   "collapsed_sections": [],
   "name": "train_feature_extractor",
   "provenance": []
  },
  "kernelspec": {
   "name": "python3",
   "display_name": "Python 3.9.5 64-bit"
  },
  "language_info": {
   "codemirror_mode": {
    "name": "ipython",
    "version": 3
   },
   "file_extension": ".py",
   "mimetype": "text/x-python",
   "name": "python",
   "nbconvert_exporter": "python",
   "pygments_lexer": "ipython3",
   "version": "3.9.5"
  },
  "interpreter": {
   "hash": "e06a423795a8f32368fd1762cb05e83bf5233f8c2906c097409655eb60b084c3"
  }
 },
 "nbformat": 4,
 "nbformat_minor": 4
}